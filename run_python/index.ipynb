{
 "cells": [
  {
   "cell_type": "markdown",
   "metadata": {},
   "source": [
    "### FIND\n",
    "- The find() method finds the first occurrence of the specified value. \n",
    "- The find() method returns -1 if the value is not found.\n",
    "- This is CASE-SENSITIVE\n",
    "\n",
    "### REPLACE\n",
    "- This method replaces a specified phrase with another specified phrase. Note: \n",
    "- All occurrences of the specified phrase will be replaced, if nothing else is specified.\n",
    "- replace('Text being replaced', 'What we are replacing it with)\n",
    "- Strings are immutable\n",
    "\n",
    "### Check if a text is IN a variable or NOT IN\n",
    "- print('xyz' in variable_name)\n",
    "- print('xyz' not in variable_name)\n",
    "\n",
    "### FORMATTED STRING LITERALS VIA f''\n",
    "- Futher research: **Python's F-String for String Interpolation and Formatting**\n",
    "- Before Python 3.6, **modulor operator(string interpolation operator) and str.format() method were used for interpolating values, variables and expressions inside string literals**"
   ]
  },
  {
   "cell_type": "code",
   "execution_count": 37,
   "metadata": {},
   "outputs": [
    {
     "name": "stdout",
     "output_type": "stream",
     "text": [
      "0\n",
      "The Lord supplies my needs according to His riches in glory.The Lord is faithful.\n",
      "True\n",
      "True\n",
      "[BLESSING] loves the color BLACK!\n",
      "[BLESSING] loves the color BLACK!\n",
      "Hello, BLESSING!\n",
      "BLESSING loves BLACK \n",
      "Hello, Jane! You're 25 years old.\n",
      "Balance: $5789.95\n",
      "Name: John\n",
      "Age:  35\n",
      "Hello, Blessing is the Frontend devloper.\n"
     ]
    }
   ],
   "source": [
    "text = \"Jesus supplies my needs according to His riches in glory.Jesus is faithful.\"\n",
    "print(text.find('J'))\n",
    "\n",
    "\n",
    "\n",
    "\n",
    "\n",
    "updated_text = text.replace('Jesus', 'The Lord')\n",
    "print(updated_text)\n",
    "\n",
    "\n",
    "\n",
    "\n",
    "\n",
    "print('Jesus' in text)\n",
    "print('The Lord' in updated_text)\n",
    "\n",
    "\n",
    "\n",
    "\n",
    "\n",
    "name = \"BLESSING\"\n",
    "color = \"BLACK\"\n",
    "sentence = '[' + name + '] loves the color ' + color + '!'\n",
    "print(sentence)\n",
    "\n",
    "\n",
    "\n",
    "\n",
    "updated_sentence = f'[{name}] loves the color {color}!'\n",
    "print(updated_sentence)\n",
    "\n",
    "\n",
    "\n",
    "\n",
    "print(\"Hello, %s!\" % name)\n",
    "print(\"%s loves %s \" % (name, color))\n",
    "\n",
    "print(\"Hello, %(name)s! You're %(age)s years old.\" % {\"name\": \"Jane\", \"age\": 25})\n",
    "\n",
    "print(\"Balance: $%.2f\" % 5789.94756)\n",
    "\n",
    "print(\"Name: %s\\nAge: %3s\" % (\"John\", 35))\n",
    "\n",
    "\n",
    "\n",
    "\n",
    "job = \"Frontend devloper\"\n",
    "staff = \"Blessing\"\n",
    "print(\"Hello, {} is the {}.\".format(staff, job))"
   ]
  }
 ],
 "metadata": {
  "kernelspec": {
   "display_name": "Python 3",
   "language": "python",
   "name": "python3"
  },
  "language_info": {
   "codemirror_mode": {
    "name": "ipython",
    "version": 3
   },
   "file_extension": ".py",
   "mimetype": "text/x-python",
   "name": "python",
   "nbconvert_exporter": "python",
   "pygments_lexer": "ipython3",
   "version": "3.11.0"
  }
 },
 "nbformat": 4,
 "nbformat_minor": 2
}
