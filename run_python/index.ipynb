{
 "cells": [
  {
   "cell_type": "markdown",
   "metadata": {},
   "source": [
    "### FIND\n",
    "- The find() method finds the first occurrence of the specified value. \n",
    "- The find() method returns -1 if the value is not found.\n",
    "- This is CASE-SENSITIVE\n",
    "\n",
    "### REPLACE\n",
    "- This method replaces a specified phrase with another specified phrase. Note: \n",
    "- All occurrences of the specified phrase will be replaced, if nothing else is specified.\n",
    "- replace('Text being replaced', 'What we are replacing it with)\n",
    "- Strings are immutable\n",
    "\n",
    "### Check if a text is IN a variable or NOT IN\n",
    "- print('xyz' in variable_name)\n",
    "- print('xyz' not in variable_name)\n",
    "\n",
    "### FORMATTED STRING LITERALS VIA f''\n",
    "- Futher research: **Python's F-String for String Interpolation and Formatting**\n",
    "- **There is MORE**\n",
    "- Before Python 3.6, **modulor operator(string interpolation operator) and str.format() method were used for interpolating values, variables and expressions inside string literals**"
   ]
  },
  {
   "cell_type": "code",
   "execution_count": null,
   "metadata": {},
   "outputs": [],
   "source": [
    "text = \"Jesus supplies my needs according to His riches in glory.Jesus is faithful.\"\n",
    "print(text.find('J'))\n",
    "\n",
    "\n",
    "\n",
    "\n",
    "\n",
    "updated_text = text.replace('Jesus', 'The Lord')\n",
    "print(updated_text)\n",
    "\n",
    "\n",
    "\n",
    "\n",
    "\n",
    "print('Jesus' in text)\n",
    "print('The Lord' in updated_text)\n",
    "\n",
    "\n",
    "\n",
    "\n",
    "\n",
    "name = \"BLESSING\"\n",
    "color = \"BLACK\"\n",
    "sentence = '[' + name + '] loves the color ' + color + '!'\n",
    "print(sentence)\n",
    "\n",
    "\n",
    "\n",
    "\n",
    "updated_sentence = f'[{name}] loves the color {color.lower()}!'\n",
    "print(updated_sentence)\n",
    "\n",
    "\n",
    "\n",
    "\n",
    "print(\"Hello, %s!\" % name)\n",
    "print(\"%s loves %s \" % (name, color))\n",
    "\n",
    "print(\"Hello, %(name)s! You're %(age)s years old.\" % {\"name\": \"Jane\", \"age\": 25})\n",
    "\n",
    "print(\"Balance: $%.2f\" % 5789.94756)\n",
    "\n",
    "print(\"Name: %s\\nAge: %3s\" % (\"John\", 35))\n",
    "\n",
    "\n",
    "\n",
    "\n",
    "job = \"Frontend devloper\"\n",
    "staff = \"Blessing\"\n",
    "print(\"Hello, {} is the {}.\".format(job, staff))\n",
    "print(\"Hello, {1} is the {0}.\".format(job, staff))\n",
    "print(\"Hello, {name}! You're {age} years old.\".format(name=\"Jane\", age=25))\n",
    "\n",
    "person = {\"name\": \"Jane\", \"age\": 25}\n",
    "print(\"Hello, {name}! You're {age} years old.\".format(**person))"
   ]
  },
  {
   "cell_type": "markdown",
   "metadata": {},
   "source": [
    "### USER INPUT\n",
    "\n",
    "- Via **input()** method\n",
    "- use parenthesis when using upper(), lower(), capitalize() etc"
   ]
  },
  {
   "cell_type": "code",
   "execution_count": null,
   "metadata": {},
   "outputs": [],
   "source": [
    "favorite_person = input(\"Who is your favorite person?: \")\n",
    "print(\"My favorite person is \" + favorite_person)\n",
    "\n",
    "\n",
    "a = input(\"Enter a digit: \")\n",
    "b = input(\"Enter another digit: \")\n",
    "sum = float(a) + float(b)\n",
    "print(sum)\n",
    "\n",
    "\n",
    "exercise_name = input(\"Enter name: \")\n",
    "exercise_distance = input(\"Enter distance in kilometer\")\n",
    "distance_km = float(exercise_distance)\n",
    "distance_mile = distance_km/1.609\n",
    "full_sentence = f'\"Hello {exercise_name.title()}, the distance is {distance_km} in kilometers and {distance_mile} in miles\"'\n",
    "print(full_sentence)"
   ]
  },
  {
   "cell_type": "markdown",
   "metadata": {},
   "source": [
    "### LISTS\n",
    "\n",
    "- "
   ]
  },
  {
   "cell_type": "code",
   "execution_count": null,
   "metadata": {},
   "outputs": [],
   "source": [
    "list = [\"Ferrari\", \"Bugatti\", \"Toyota\", \"BMW\", \"BMW\", \"BMW\"]\n",
    "print(list)\n",
    "print(list[2])\n",
    "print(list[-1])\n",
    "print(list[:])\n",
    "print(len(list))\n",
    "print(list.index('BMW'))\n",
    "print(list.count('BMW'))\n",
    "# Case-sensitive\n",
    "# Count shows number of occurences\n",
    "\n",
    "# Note\n",
    "\"\"\"\n",
    "This is a comment\n",
    "written in \n",
    "more than just one line\n",
    "\"\"\"\n",
    "# As long as the string is not assigned to a variable, Python will read the code, but then ignore it, and you have made a multiline comment\n",
    "\n",
    "print(list[2:4])\n",
    "print(list[0:3])\n",
    "\n"
   ]
  },
  {
   "cell_type": "code",
   "execution_count": 40,
   "metadata": {},
   "outputs": [
    {
     "name": "stdout",
     "output_type": "stream",
     "text": [
      "['BMW', 'Bugatti', 'Ferrari', 'Toyota']\n",
      "[55, 264, 831, 963, 3764]\n",
      "['Toyota', 'Ferrari', 'Bugatti', 'BMW']\n"
     ]
    }
   ],
   "source": [
    "list = ['Ferrari', 'Bugatti', 'Toyota', 'BMW']\n",
    "numbers = [831, 264, 963, 3764, 55]\n",
    "list.sort()\n",
    "numbers.sort()\n",
    "\n",
    "print(list)\n",
    "print(numbers)\n",
    "\n",
    "list.sort(reverse=True)\n",
    "print(list)\n",
    "\n",
    "list.reverse\n",
    "print(list)\n",
    "# min(list), sum(list), max(list)\n",
    "\n"
   ]
  }
 ],
 "metadata": {
  "kernelspec": {
   "display_name": "Python 3",
   "language": "python",
   "name": "python3"
  },
  "language_info": {
   "codemirror_mode": {
    "name": "ipython",
    "version": 3
   },
   "file_extension": ".py",
   "mimetype": "text/x-python",
   "name": "python",
   "nbconvert_exporter": "python",
   "pygments_lexer": "ipython3",
   "version": "3.11.0"
  }
 },
 "nbformat": 4,
 "nbformat_minor": 2
}
